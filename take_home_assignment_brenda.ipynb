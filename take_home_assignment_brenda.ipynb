{
 "cells": [
  {
   "cell_type": "markdown",
   "id": "dominican-humanitarian",
   "metadata": {},
   "source": [
    "# Predict Credit Card Default\n",
    "\n",
    "by Brenda Zhang\n",
    "\n",
    "\n",
    "### Summary\n",
    "\n",
    "The goal of this analysis is to build a model to predict the likelihood of default based on customer default payments data in Taiwan (https://archive.ics.uci.edu/ml/datasets/default+of+credit+card+clients#). The analysis includes exploratory data analysis, preprocessing, and multiple machine learning model training, tuning and comparison.\n",
    "\n",
    "- Given that the dataset is imbalanced, we use AUC as the evaluation metric.\n",
    "- We use median values to impute missing values of continuous features and then standardize them. We apply one-hot encoding to categorical features.\n",
    "- We compare Logisitic Regression, Random Forest, and XGBoost and find that the __XGBoost model__ performs the best in the training set and select it as the final model.\n",
    "- The final model gets an AUC of 0.8284 in the training set and an AUC of 0.7763 in the test set."
   ]
  },
  {
   "cell_type": "code",
   "execution_count": 1,
   "id": "reflected-assembly",
   "metadata": {},
   "outputs": [],
   "source": [
    "# Import Libraries\n",
    "import pandas as pd\n",
    "import numpy as np\n",
    "import seaborn as sns\n",
    "import matplotlib.pyplot as plt\n",
    "\n",
    "from sklearn.model_selection import train_test_split, GridSearchCV\n",
    "from sklearn.metrics import accuracy_score, roc_auc_score, roc_curve, auc\n",
    "from sklearn.pipeline import Pipeline\n",
    "from sklearn.impute import SimpleImputer\n",
    "from sklearn.preprocessing import StandardScaler, OneHotEncoder\n",
    "from sklearn.compose import ColumnTransformer\n",
    "\n",
    "plt.style.use('ggplot')\n",
    "\n",
    "# Set constant variables\n",
    "RANDOM_SEED = 7\n",
    "N_FOLDS = 5\n",
    "TEST_SIZE = 0.2\n",
    "N_JOBS = -1"
   ]
  },
  {
   "cell_type": "markdown",
   "id": "prescribed-atlas",
   "metadata": {},
   "source": [
    "### Load Dataset\n",
    "\n",
    "Load input data using Excel file \"default of credit card clients.xls\" from https://archive.ics.uci.edu/ml/datasets/default+of+credit+card+clients#"
   ]
  },
  {
   "cell_type": "code",
   "execution_count": 2,
   "id": "technological-cyprus",
   "metadata": {},
   "outputs": [],
   "source": [
    "cc_data = pd.read_excel('default of credit card clients.xls', header = [1])\n",
    "cc_data = cc_data.rename(columns={'default payment next month': 'default_flag'})"
   ]
  },
  {
   "cell_type": "markdown",
   "id": "provincial-athens",
   "metadata": {},
   "source": [
    "### Exploratory Data Analysis\n",
    "\n",
    "Variable defitions: \n",
    "- X1: Amount of the given credit (NT dollar): it includes both the individual consumer credit and his/her family (supplementary) credit.\n",
    "- X2: Gender (1 = male; 2 = female).\n",
    "- X3: Education (1 = graduate school; 2 = university; 3 = high school; 4 = others).\n",
    "- X4: Marital status (1 = married; 2 = single; 3 = others).\n",
    "- X5: Age (year).\n",
    "- X6 - X11: History of past payment. We tracked the past monthly payment records (from April to September, 2005) as follows: X6 = the repayment status in September, 2005; X7 = the repayment status in August, 2005; . . .;X11 = the repayment status in April, 2005. The measurement scale for the repayment status is: -1 = pay duly; 1 = payment delay for one month; 2 = payment delay for two months; . . .; 8 = payment delay for eight months; 9 = payment delay for nine months and above.\n",
    "- X12-X17: Amount of bill statement (NT dollar). X12 = amount of bill statement in September, 2005; X13 = amount of bill statement in August, 2005; . . .; X17 = amount of bill statement in April, 2005.\n",
    "- X18-X23: Amount of previous payment (NT dollar). X18 = amount paid in September, 2005; X19 = amount paid in August, 2005; . . .;X23 = amount paid in April, 2005.\n",
    "\n",
    "\n",
    "Note that:\n",
    "- Categorical variables such as Gender, Education and Marital status have zero values, we assume those are NULL values."
   ]
  },
  {
   "cell_type": "markdown",
   "id": "heavy-camera",
   "metadata": {},
   "source": [
    "Get data type information as well as sample size."
   ]
  },
  {
   "cell_type": "code",
   "execution_count": 3,
   "id": "classical-natural",
   "metadata": {},
   "outputs": [
    {
     "name": "stdout",
     "output_type": "stream",
     "text": [
      "<class 'pandas.core.frame.DataFrame'>\n",
      "RangeIndex: 30000 entries, 0 to 29999\n",
      "Data columns (total 25 columns):\n",
      " #   Column        Non-Null Count  Dtype\n",
      "---  ------        --------------  -----\n",
      " 0   ID            30000 non-null  int64\n",
      " 1   LIMIT_BAL     30000 non-null  int64\n",
      " 2   SEX           30000 non-null  int64\n",
      " 3   EDUCATION     30000 non-null  int64\n",
      " 4   MARRIAGE      30000 non-null  int64\n",
      " 5   AGE           30000 non-null  int64\n",
      " 6   PAY_0         30000 non-null  int64\n",
      " 7   PAY_2         30000 non-null  int64\n",
      " 8   PAY_3         30000 non-null  int64\n",
      " 9   PAY_4         30000 non-null  int64\n",
      " 10  PAY_5         30000 non-null  int64\n",
      " 11  PAY_6         30000 non-null  int64\n",
      " 12  BILL_AMT1     30000 non-null  int64\n",
      " 13  BILL_AMT2     30000 non-null  int64\n",
      " 14  BILL_AMT3     30000 non-null  int64\n",
      " 15  BILL_AMT4     30000 non-null  int64\n",
      " 16  BILL_AMT5     30000 non-null  int64\n",
      " 17  BILL_AMT6     30000 non-null  int64\n",
      " 18  PAY_AMT1      30000 non-null  int64\n",
      " 19  PAY_AMT2      30000 non-null  int64\n",
      " 20  PAY_AMT3      30000 non-null  int64\n",
      " 21  PAY_AMT4      30000 non-null  int64\n",
      " 22  PAY_AMT5      30000 non-null  int64\n",
      " 23  PAY_AMT6      30000 non-null  int64\n",
      " 24  default_flag  30000 non-null  int64\n",
      "dtypes: int64(25)\n",
      "memory usage: 5.7 MB\n"
     ]
    }
   ],
   "source": [
    "cc_data.info()"
   ]
  },
  {
   "cell_type": "markdown",
   "id": "closed-indonesia",
   "metadata": {},
   "source": [
    "Overview of the dataset"
   ]
  },
  {
   "cell_type": "code",
   "execution_count": 4,
   "id": "polished-highland",
   "metadata": {},
   "outputs": [
    {
     "data": {
      "text/html": [
       "<div>\n",
       "<style scoped>\n",
       "    .dataframe tbody tr th:only-of-type {\n",
       "        vertical-align: middle;\n",
       "    }\n",
       "\n",
       "    .dataframe tbody tr th {\n",
       "        vertical-align: top;\n",
       "    }\n",
       "\n",
       "    .dataframe thead th {\n",
       "        text-align: right;\n",
       "    }\n",
       "</style>\n",
       "<table border=\"1\" class=\"dataframe\">\n",
       "  <thead>\n",
       "    <tr style=\"text-align: right;\">\n",
       "      <th></th>\n",
       "      <th>ID</th>\n",
       "      <th>LIMIT_BAL</th>\n",
       "      <th>SEX</th>\n",
       "      <th>EDUCATION</th>\n",
       "      <th>MARRIAGE</th>\n",
       "      <th>AGE</th>\n",
       "      <th>PAY_0</th>\n",
       "      <th>PAY_2</th>\n",
       "      <th>PAY_3</th>\n",
       "      <th>PAY_4</th>\n",
       "      <th>...</th>\n",
       "      <th>BILL_AMT4</th>\n",
       "      <th>BILL_AMT5</th>\n",
       "      <th>BILL_AMT6</th>\n",
       "      <th>PAY_AMT1</th>\n",
       "      <th>PAY_AMT2</th>\n",
       "      <th>PAY_AMT3</th>\n",
       "      <th>PAY_AMT4</th>\n",
       "      <th>PAY_AMT5</th>\n",
       "      <th>PAY_AMT6</th>\n",
       "      <th>default_flag</th>\n",
       "    </tr>\n",
       "  </thead>\n",
       "  <tbody>\n",
       "    <tr>\n",
       "      <th>count</th>\n",
       "      <td>30000.000000</td>\n",
       "      <td>30000.000000</td>\n",
       "      <td>30000.000000</td>\n",
       "      <td>30000.000000</td>\n",
       "      <td>30000.000000</td>\n",
       "      <td>30000.000000</td>\n",
       "      <td>30000.000000</td>\n",
       "      <td>30000.000000</td>\n",
       "      <td>30000.000000</td>\n",
       "      <td>30000.000000</td>\n",
       "      <td>...</td>\n",
       "      <td>30000.000000</td>\n",
       "      <td>30000.000000</td>\n",
       "      <td>30000.000000</td>\n",
       "      <td>30000.000000</td>\n",
       "      <td>3.000000e+04</td>\n",
       "      <td>30000.00000</td>\n",
       "      <td>30000.000000</td>\n",
       "      <td>30000.000000</td>\n",
       "      <td>30000.000000</td>\n",
       "      <td>30000.000000</td>\n",
       "    </tr>\n",
       "    <tr>\n",
       "      <th>mean</th>\n",
       "      <td>15000.500000</td>\n",
       "      <td>167484.322667</td>\n",
       "      <td>1.603733</td>\n",
       "      <td>1.853133</td>\n",
       "      <td>1.551867</td>\n",
       "      <td>35.485500</td>\n",
       "      <td>-0.016700</td>\n",
       "      <td>-0.133767</td>\n",
       "      <td>-0.166200</td>\n",
       "      <td>-0.220667</td>\n",
       "      <td>...</td>\n",
       "      <td>43262.948967</td>\n",
       "      <td>40311.400967</td>\n",
       "      <td>38871.760400</td>\n",
       "      <td>5663.580500</td>\n",
       "      <td>5.921163e+03</td>\n",
       "      <td>5225.68150</td>\n",
       "      <td>4826.076867</td>\n",
       "      <td>4799.387633</td>\n",
       "      <td>5215.502567</td>\n",
       "      <td>0.221200</td>\n",
       "    </tr>\n",
       "    <tr>\n",
       "      <th>std</th>\n",
       "      <td>8660.398374</td>\n",
       "      <td>129747.661567</td>\n",
       "      <td>0.489129</td>\n",
       "      <td>0.790349</td>\n",
       "      <td>0.521970</td>\n",
       "      <td>9.217904</td>\n",
       "      <td>1.123802</td>\n",
       "      <td>1.197186</td>\n",
       "      <td>1.196868</td>\n",
       "      <td>1.169139</td>\n",
       "      <td>...</td>\n",
       "      <td>64332.856134</td>\n",
       "      <td>60797.155770</td>\n",
       "      <td>59554.107537</td>\n",
       "      <td>16563.280354</td>\n",
       "      <td>2.304087e+04</td>\n",
       "      <td>17606.96147</td>\n",
       "      <td>15666.159744</td>\n",
       "      <td>15278.305679</td>\n",
       "      <td>17777.465775</td>\n",
       "      <td>0.415062</td>\n",
       "    </tr>\n",
       "    <tr>\n",
       "      <th>min</th>\n",
       "      <td>1.000000</td>\n",
       "      <td>10000.000000</td>\n",
       "      <td>1.000000</td>\n",
       "      <td>0.000000</td>\n",
       "      <td>0.000000</td>\n",
       "      <td>21.000000</td>\n",
       "      <td>-2.000000</td>\n",
       "      <td>-2.000000</td>\n",
       "      <td>-2.000000</td>\n",
       "      <td>-2.000000</td>\n",
       "      <td>...</td>\n",
       "      <td>-170000.000000</td>\n",
       "      <td>-81334.000000</td>\n",
       "      <td>-339603.000000</td>\n",
       "      <td>0.000000</td>\n",
       "      <td>0.000000e+00</td>\n",
       "      <td>0.00000</td>\n",
       "      <td>0.000000</td>\n",
       "      <td>0.000000</td>\n",
       "      <td>0.000000</td>\n",
       "      <td>0.000000</td>\n",
       "    </tr>\n",
       "    <tr>\n",
       "      <th>25%</th>\n",
       "      <td>7500.750000</td>\n",
       "      <td>50000.000000</td>\n",
       "      <td>1.000000</td>\n",
       "      <td>1.000000</td>\n",
       "      <td>1.000000</td>\n",
       "      <td>28.000000</td>\n",
       "      <td>-1.000000</td>\n",
       "      <td>-1.000000</td>\n",
       "      <td>-1.000000</td>\n",
       "      <td>-1.000000</td>\n",
       "      <td>...</td>\n",
       "      <td>2326.750000</td>\n",
       "      <td>1763.000000</td>\n",
       "      <td>1256.000000</td>\n",
       "      <td>1000.000000</td>\n",
       "      <td>8.330000e+02</td>\n",
       "      <td>390.00000</td>\n",
       "      <td>296.000000</td>\n",
       "      <td>252.500000</td>\n",
       "      <td>117.750000</td>\n",
       "      <td>0.000000</td>\n",
       "    </tr>\n",
       "    <tr>\n",
       "      <th>50%</th>\n",
       "      <td>15000.500000</td>\n",
       "      <td>140000.000000</td>\n",
       "      <td>2.000000</td>\n",
       "      <td>2.000000</td>\n",
       "      <td>2.000000</td>\n",
       "      <td>34.000000</td>\n",
       "      <td>0.000000</td>\n",
       "      <td>0.000000</td>\n",
       "      <td>0.000000</td>\n",
       "      <td>0.000000</td>\n",
       "      <td>...</td>\n",
       "      <td>19052.000000</td>\n",
       "      <td>18104.500000</td>\n",
       "      <td>17071.000000</td>\n",
       "      <td>2100.000000</td>\n",
       "      <td>2.009000e+03</td>\n",
       "      <td>1800.00000</td>\n",
       "      <td>1500.000000</td>\n",
       "      <td>1500.000000</td>\n",
       "      <td>1500.000000</td>\n",
       "      <td>0.000000</td>\n",
       "    </tr>\n",
       "    <tr>\n",
       "      <th>75%</th>\n",
       "      <td>22500.250000</td>\n",
       "      <td>240000.000000</td>\n",
       "      <td>2.000000</td>\n",
       "      <td>2.000000</td>\n",
       "      <td>2.000000</td>\n",
       "      <td>41.000000</td>\n",
       "      <td>0.000000</td>\n",
       "      <td>0.000000</td>\n",
       "      <td>0.000000</td>\n",
       "      <td>0.000000</td>\n",
       "      <td>...</td>\n",
       "      <td>54506.000000</td>\n",
       "      <td>50190.500000</td>\n",
       "      <td>49198.250000</td>\n",
       "      <td>5006.000000</td>\n",
       "      <td>5.000000e+03</td>\n",
       "      <td>4505.00000</td>\n",
       "      <td>4013.250000</td>\n",
       "      <td>4031.500000</td>\n",
       "      <td>4000.000000</td>\n",
       "      <td>0.000000</td>\n",
       "    </tr>\n",
       "    <tr>\n",
       "      <th>max</th>\n",
       "      <td>30000.000000</td>\n",
       "      <td>1000000.000000</td>\n",
       "      <td>2.000000</td>\n",
       "      <td>6.000000</td>\n",
       "      <td>3.000000</td>\n",
       "      <td>79.000000</td>\n",
       "      <td>8.000000</td>\n",
       "      <td>8.000000</td>\n",
       "      <td>8.000000</td>\n",
       "      <td>8.000000</td>\n",
       "      <td>...</td>\n",
       "      <td>891586.000000</td>\n",
       "      <td>927171.000000</td>\n",
       "      <td>961664.000000</td>\n",
       "      <td>873552.000000</td>\n",
       "      <td>1.684259e+06</td>\n",
       "      <td>896040.00000</td>\n",
       "      <td>621000.000000</td>\n",
       "      <td>426529.000000</td>\n",
       "      <td>528666.000000</td>\n",
       "      <td>1.000000</td>\n",
       "    </tr>\n",
       "  </tbody>\n",
       "</table>\n",
       "<p>8 rows × 25 columns</p>\n",
       "</div>"
      ],
      "text/plain": [
       "                 ID       LIMIT_BAL           SEX     EDUCATION      MARRIAGE  \\\n",
       "count  30000.000000    30000.000000  30000.000000  30000.000000  30000.000000   \n",
       "mean   15000.500000   167484.322667      1.603733      1.853133      1.551867   \n",
       "std     8660.398374   129747.661567      0.489129      0.790349      0.521970   \n",
       "min        1.000000    10000.000000      1.000000      0.000000      0.000000   \n",
       "25%     7500.750000    50000.000000      1.000000      1.000000      1.000000   \n",
       "50%    15000.500000   140000.000000      2.000000      2.000000      2.000000   \n",
       "75%    22500.250000   240000.000000      2.000000      2.000000      2.000000   \n",
       "max    30000.000000  1000000.000000      2.000000      6.000000      3.000000   \n",
       "\n",
       "                AGE         PAY_0         PAY_2         PAY_3         PAY_4  \\\n",
       "count  30000.000000  30000.000000  30000.000000  30000.000000  30000.000000   \n",
       "mean      35.485500     -0.016700     -0.133767     -0.166200     -0.220667   \n",
       "std        9.217904      1.123802      1.197186      1.196868      1.169139   \n",
       "min       21.000000     -2.000000     -2.000000     -2.000000     -2.000000   \n",
       "25%       28.000000     -1.000000     -1.000000     -1.000000     -1.000000   \n",
       "50%       34.000000      0.000000      0.000000      0.000000      0.000000   \n",
       "75%       41.000000      0.000000      0.000000      0.000000      0.000000   \n",
       "max       79.000000      8.000000      8.000000      8.000000      8.000000   \n",
       "\n",
       "       ...      BILL_AMT4      BILL_AMT5      BILL_AMT6       PAY_AMT1  \\\n",
       "count  ...   30000.000000   30000.000000   30000.000000   30000.000000   \n",
       "mean   ...   43262.948967   40311.400967   38871.760400    5663.580500   \n",
       "std    ...   64332.856134   60797.155770   59554.107537   16563.280354   \n",
       "min    ... -170000.000000  -81334.000000 -339603.000000       0.000000   \n",
       "25%    ...    2326.750000    1763.000000    1256.000000    1000.000000   \n",
       "50%    ...   19052.000000   18104.500000   17071.000000    2100.000000   \n",
       "75%    ...   54506.000000   50190.500000   49198.250000    5006.000000   \n",
       "max    ...  891586.000000  927171.000000  961664.000000  873552.000000   \n",
       "\n",
       "           PAY_AMT2      PAY_AMT3       PAY_AMT4       PAY_AMT5  \\\n",
       "count  3.000000e+04   30000.00000   30000.000000   30000.000000   \n",
       "mean   5.921163e+03    5225.68150    4826.076867    4799.387633   \n",
       "std    2.304087e+04   17606.96147   15666.159744   15278.305679   \n",
       "min    0.000000e+00       0.00000       0.000000       0.000000   \n",
       "25%    8.330000e+02     390.00000     296.000000     252.500000   \n",
       "50%    2.009000e+03    1800.00000    1500.000000    1500.000000   \n",
       "75%    5.000000e+03    4505.00000    4013.250000    4031.500000   \n",
       "max    1.684259e+06  896040.00000  621000.000000  426529.000000   \n",
       "\n",
       "            PAY_AMT6  default_flag  \n",
       "count   30000.000000  30000.000000  \n",
       "mean     5215.502567      0.221200  \n",
       "std     17777.465775      0.415062  \n",
       "min         0.000000      0.000000  \n",
       "25%       117.750000      0.000000  \n",
       "50%      1500.000000      0.000000  \n",
       "75%      4000.000000      0.000000  \n",
       "max    528666.000000      1.000000  \n",
       "\n",
       "[8 rows x 25 columns]"
      ]
     },
     "execution_count": 4,
     "metadata": {},
     "output_type": "execute_result"
    }
   ],
   "source": [
    "cc_data.describe()"
   ]
  },
  {
   "cell_type": "markdown",
   "id": "wrong-somalia",
   "metadata": {},
   "source": [
    "Plot the distribution of the target."
   ]
  },
  {
   "cell_type": "code",
   "execution_count": 5,
   "id": "mechanical-light",
   "metadata": {},
   "outputs": [
    {
     "name": "stderr",
     "output_type": "stream",
     "text": [
      "<ipython-input-5-274cc515e52e>:13: UserWarning: FixedFormatter should only be used together with FixedLocator\n",
      "  ax.set_yticklabels(['{:,.2%}'.format(x) for x in yticks])\n"
     ]
    },
    {
     "data": {
      "image/png": "[encoded data removed]",
      "text/plain": [
       "<Figure size 576x360 with 1 Axes>"
      ]
     },
     "metadata": {},
     "output_type": "display_data"
    }
   ],
   "source": [
    "# Drop NAs from the dataset\n",
    "cc_data.dropna(inplace=True)\n",
    "\n",
    "cnt_by_flag = cc_data.groupby('default_flag').size().reset_index()\n",
    "cnt_by_flag['all_class'] = cc_data['default_flag'].count()\n",
    "cnt_by_flag['percent'] = cnt_by_flag[0]/cnt_by_flag['all_class']\n",
    "format_dict = {'percent': '{:.2%}'}\n",
    "\n",
    "# Plot the number of data points by label value\n",
    "fig, ax = plt.subplots(figsize =(8,5))\n",
    "cnt_by_flag.plot(x='default_flag', y='percent', kind='bar', ax=ax, color='green')\n",
    "yticks = ax.get_yticks()\n",
    "ax.set_yticklabels(['{:,.2%}'.format(x) for x in yticks])\n",
    "plt.title(\"Number of data points by label (Default Flag) \")\n",
    "plt.xlabel(\"Default Flag\")\n",
    "plt.show()"
   ]
  },
  {
   "cell_type": "markdown",
   "id": "competitive-weekly",
   "metadata": {},
   "source": [
    "The distribution shows that the dataset is imbalanced. Most of the samples are with negative labels.\n",
    "\n",
    "Given an imbalanced dataset, we choose to use AUC as the evaluation metric, instead of accuracy score."
   ]
  },
  {
   "cell_type": "markdown",
   "id": "specialized-dollar",
   "metadata": {},
   "source": [
    "### More Exploratory Analysis\n",
    "\n",
    "Plot the distribution of categorical variables and their average default percentages."
   ]
  },
  {
   "cell_type": "code",
   "execution_count": 6,
   "id": "protecting-rendering",
   "metadata": {},
   "outputs": [
    {
     "name": "stderr",
     "output_type": "stream",
     "text": [
      "/usr/local/lib/python3.9/site-packages/pandas/plotting/_matplotlib/tools.py:400: MatplotlibDeprecationWarning: \n",
      "The is_first_col function was deprecated in Matplotlib 3.4 and will be removed two minor releases later. Use ax.get_subplotspec().is_first_col() instead.\n",
      "  if ax.is_first_col():\n"
     ]
    },
    {
     "data": {
      "image/png": "[encoded data removed]",
      "text/plain": [
       "<Figure size 1080x216 with 2 Axes>"
      ]
     },
     "metadata": {},
     "output_type": "display_data"
    },
    {
     "data": {
      "image/png": "[encoded data removed]",
      "text/plain": [
       "<Figure size 1080x216 with 2 Axes>"
      ]
     },
     "metadata": {},
     "output_type": "display_data"
    },
    {
     "data": {
      "image/png": "[encoded data removed]",
      "text/plain": [
       "<Figure size 1080x216 with 2 Axes>"
      ]
     },
     "metadata": {},
     "output_type": "display_data"
    }
   ],
   "source": [
    "categorical_features = ['SEX', 'EDUCATION', 'MARRIAGE']\n",
    "# Fill 0 with np.nan\n",
    "for col in categorical_features:\n",
    "    cc_data[col] = cc_data[col].replace(0, np.nan)\n",
    "\n",
    "def plot_categorical(feature):\n",
    "    fig, ax = plt.subplots(1, 2, figsize =(15,3))\n",
    "    cc_data.groupby(feature)['default_flag'].size().plot(kind='bar', color='green', ax=ax[0])\n",
    "    cc_data.groupby(feature)['default_flag'].mean().plot(kind='bar', color='green', ax=ax[1])\n",
    "    ax[0].set_title('Distribution of {}'.format(feature))\n",
    "    ax[1].set_title('Average default pct based on {}'.format(feature))\n",
    "    plt.show()\n",
    "    \n",
    "\n",
    "for feature in categorical_features:\n",
    "    plot_categorical(feature)"
   ]
  },
  {
   "cell_type": "markdown",
   "id": "stuck-truth",
   "metadata": {},
   "source": [
    "### Modeling: Preprocessing \n",
    "\n",
    "Divide data in to Train and Test set.\n",
    "\n",
    "The test set is to evaluate if the final model selected is generalizable and will only be used once the best model is selected."
   ]
  },
  {
   "cell_type": "code",
   "execution_count": 7,
   "id": "experimental-amino",
   "metadata": {},
   "outputs": [],
   "source": [
    "continuous_features = ['LIMIT_BAL', 'AGE', 'PAY_0', 'PAY_2',\n",
    "       'PAY_3', 'PAY_4', 'PAY_5', 'PAY_6', 'BILL_AMT1', 'BILL_AMT2',\n",
    "       'BILL_AMT3', 'BILL_AMT4', 'BILL_AMT5', 'BILL_AMT6', 'PAY_AMT1',\n",
    "       'PAY_AMT2', 'PAY_AMT3', 'PAY_AMT4', 'PAY_AMT5', 'PAY_AMT6']\n",
    "features = categorical_features + continuous_features\n",
    "target = 'default_flag'\n",
    "cc_data.dropna(subset=features, inplace=True)\n",
    "\n",
    "X = cc_data[features]\n",
    "y = cc_data[target].values\n",
    "X_train_all, X_test_all, y_train_all, y_test_all = train_test_split(X, y, \n",
    "                                                                    random_state=RANDOM_SEED, \n",
    "                                                                    test_size=TEST_SIZE)"
   ]
  },
  {
   "cell_type": "markdown",
   "id": "present-clinic",
   "metadata": {},
   "source": [
    "### Modeling: Model Formulation and Selection\n",
    "\n",
    "We use median values to impute missing values of continuous features and standardize them. We apply one-hot encoding to categorical features.\n",
    "\n",
    "\n",
    "We train and tune four machine learning models/implementations: Logistic Regression, Random Forest, and XGBoost."
   ]
  },
  {
   "cell_type": "code",
   "execution_count": 8,
   "id": "multiple-husband",
   "metadata": {},
   "outputs": [],
   "source": [
    "def get_model(estimator):\n",
    "    \"\"\"\n",
    "    Build model pipeline with feature transformation and estimator\n",
    "    \"\"\"\n",
    "    continuous_transformer = Pipeline(steps = [('imputer', SimpleImputer(strategy='median')),\n",
    "                                           ('scaler', StandardScaler())])\n",
    "    preprocessing = ColumnTransformer(\n",
    "                    transformers=[\n",
    "                                  ('continuous', continuous_transformer, continuous_features),\n",
    "                                  ('categorical', OneHotEncoder(handle_unknown='ignore'), categorical_features)\n",
    "                    ])\n",
    "    model_pipeline = Pipeline([('transformer', preprocessing),\n",
    "                               ('estimator', estimator)])\n",
    "    return model_pipeline"
   ]
  },
  {
   "cell_type": "markdown",
   "id": "least-console",
   "metadata": {},
   "source": [
    "#### Logistic Regression"
   ]
  },
  {
   "cell_type": "code",
   "execution_count": 9,
   "id": "standard-battery",
   "metadata": {},
   "outputs": [],
   "source": [
    "from sklearn.linear_model import LogisticRegression\n",
    "lr = LogisticRegression(max_iter=10000)\n",
    "model_lr = get_model(lr)"
   ]
  },
  {
   "cell_type": "code",
   "execution_count": 10,
   "id": "brutal-precipitation",
   "metadata": {},
   "outputs": [
    {
     "name": "stdout",
     "output_type": "stream",
     "text": [
      "Fitting and search for best LR model.\n",
      "\n",
      "Best LR Estimator:\n",
      "LogisticRegression(C=10.0, max_iter=10000)\n",
      "\n",
      "Best LR train AUC: 0.7266347500234124\n"
     ]
    }
   ],
   "source": [
    "param_grid_lr = {\n",
    "                'estimator__C': np.logspace(-3, 3, 10)\n",
    "                }\n",
    "search_lr = GridSearchCV(model_lr, param_grid_lr, n_jobs=-1, scoring='roc_auc', cv=N_FOLDS)\n",
    "print(\"Fitting and search for best LR model.\")\n",
    "search_lr.fit(X_train_all, y_train_all)\n",
    "\n",
    "print(\"\\nBest LR Estimator:\")\n",
    "print(search_lr.best_estimator_['estimator'])\n",
    "\n",
    "# Best LR Model Scores\n",
    "train_scores_lr = roc_auc_score(y_train_all, search_lr.predict_proba(X_train_all)[:, 1])\n",
    "print(\"\\nBest LR train AUC: {}\".format(train_scores_lr))"
   ]
  },
  {
   "cell_type": "markdown",
   "id": "violent-tennessee",
   "metadata": {},
   "source": [
    "#### Random Forest"
   ]
  },
  {
   "cell_type": "code",
   "execution_count": 11,
   "id": "departmental-transmission",
   "metadata": {},
   "outputs": [],
   "source": [
    "from sklearn.ensemble import RandomForestClassifier\n",
    "estimator_rf = RandomForestClassifier()\n",
    "model_rf = get_model(estimator_rf)"
   ]
  },
  {
   "cell_type": "code",
   "execution_count": 12,
   "id": "naval-gothic",
   "metadata": {},
   "outputs": [
    {
     "name": "stdout",
     "output_type": "stream",
     "text": [
      "Fitting and search for best RF model.\n",
      "\n",
      "Best RF Estimator:\n",
      "RandomForestClassifier(max_depth=8, max_features='sqrt', n_estimators=200)\n",
      "\n",
      "Best RF train AUC: 0.8180044543596274\n"
     ]
    }
   ],
   "source": [
    "param_grid_rf = {\n",
    "                'estimator__n_estimators': [50, 100, 200, 500],\n",
    "                'estimator__max_features': ['auto', 'sqrt', 'log2'],\n",
    "                'estimator__max_depth': [2, 3, 5, 8]\n",
    "                }\n",
    "search_rf = GridSearchCV(model_rf, param_grid_rf, n_jobs=-1, scoring='roc_auc')\n",
    "print(\"Fitting and search for best RF model.\")\n",
    "search_rf.fit(X_train_all, y_train_all)\n",
    "\n",
    "print(\"\\nBest RF Estimator:\")\n",
    "print(search_rf.best_estimator_['estimator'])\n",
    "\n",
    "# Best RF Model Scores\n",
    "train_scores_rf = roc_auc_score(y_train_all, search_rf.predict_proba(X_train_all)[:, 1])\n",
    "print(\"\\nBest RF train AUC: {}\".format(train_scores_rf))"
   ]
  },
  {
   "cell_type": "markdown",
   "id": "endangered-script",
   "metadata": {},
   "source": [
    "#### XGBoost"
   ]
  },
  {
   "cell_type": "code",
   "execution_count": 15,
   "id": "together-consolidation",
   "metadata": {},
   "outputs": [],
   "source": [
    "from xgboost import XGBClassifier\n",
    "estimator_xgb = XGBClassifier(objective= 'binary:logistic', nthread=4)\n",
    "model_xgb = get_model(estimator_xgb)"
   ]
  },
  {
   "cell_type": "code",
   "execution_count": 16,
   "id": "bronze-creator",
   "metadata": {},
   "outputs": [
    {
     "name": "stdout",
     "output_type": "stream",
     "text": [
      "Fitting and search for best XGBoost model.\n",
      "Fitting 5 folds for each of 45 candidates, totalling 225 fits\n"
     ]
    },
    {
     "name": "stderr",
     "output_type": "stream",
     "text": [
      "/usr/local/lib/python3.9/site-packages/xgboost/sklearn.py:1224: UserWarning: The use of label encoder in XGBClassifier is deprecated and will be removed in a future release. To remove this warning, do the following: 1) Pass option use_label_encoder=False when constructing XGBClassifier object; and 2) Encode your labels (y) as integers starting with 0, i.e. 0, 1, 2, ..., [num_class - 1].\n",
      "  warnings.warn(label_encoder_deprecation_msg, UserWarning)\n"
     ]
    },
    {
     "name": "stdout",
     "output_type": "stream",
     "text": [
      "[09:19:33] WARNING: /Users/runner/work/xgboost/xgboost/src/learner.cc:1115: Starting in XGBoost 1.3.0, the default evaluation metric used with the objective 'binary:logistic' was changed from 'error' to 'logloss'. Explicitly set eval_metric if you'd like to restore the old behavior.\n",
      "Best XGBoost Estimator:\n",
      "XGBClassifier(base_score=0.5, booster='gbtree', colsample_bylevel=1,\n",
      "              colsample_bynode=1, colsample_bytree=1, enable_categorical=False,\n",
      "              gamma=0, gpu_id=-1, importance_type=None,\n",
      "              interaction_constraints='', learning_rate=0.03162277660168379,\n",
      "              max_delta_step=0, max_depth=5, min_child_weight=1, missing=nan,\n",
      "              monotone_constraints='()', n_estimators=200, n_jobs=4, nthread=4,\n",
      "              num_parallel_tree=1, predictor='auto', random_state=0,\n",
      "              reg_alpha=0, reg_lambda=1, scale_pos_weight=1, subsample=1,\n",
      "              tree_method='exact', validate_parameters=1, verbosity=None)\n",
      "Best XGBoost train AUC: 0.8284223936751243\n"
     ]
    }
   ],
   "source": [
    "param_grid_xgb = {\n",
    "                'estimator__n_estimators': [50, 100, 200],\n",
    "                'estimator__max_depth': [2, 3, 5],\n",
    "                'estimator__learning_rate': np.logspace(-2, 0, 5),\n",
    "                }\n",
    "search_xgb = GridSearchCV(model_xgb, param_grid_xgb, n_jobs=-1, scoring='roc_auc', verbose=3)\n",
    "print(\"Fitting and search for best XGBoost model.\")\n",
    "search_xgb.fit(X_train_all, y_train_all)\n",
    "\n",
    "print(\"Best XGBoost Estimator:\")\n",
    "print(search_xgb.best_estimator_['estimator'])\n",
    "\n",
    "# Best XGB Model Scores\n",
    "train_scores_xgb = roc_auc_score(y_train_all, search_xgb.predict_proba(X_train_all)[:, 1])\n",
    "print(\"Best XGBoost train AUC: {}\".format(train_scores_xgb))"
   ]
  },
  {
   "cell_type": "markdown",
   "id": "settled-frost",
   "metadata": {},
   "source": [
    "#### Model Comparison & Selection\n",
    "\n",
    "According to cross-validation performance (AUC):\n",
    "\n",
    "- the Logistic Regression model: 0.7266\n",
    "- the Random Forest model: 0.8180\n",
    "- the XGBoost model: 0.8284\n",
    "\n",
    ", we choose the __XGBoost model (learning_rate=0.0316, max_depth=5, n_estimators=200)__ as the final model."
   ]
  },
  {
   "cell_type": "markdown",
   "id": "clear-vinyl",
   "metadata": {},
   "source": [
    "### Model Evaluation\n",
    "\n",
    "Run best models on the test set and evaluate the model performance. The chosen model has an AUC of 0.7763. The test performance is slightly worse than the training set and the model overfits. "
   ]
  },
  {
   "cell_type": "code",
   "execution_count": 20,
   "id": "subtle-details",
   "metadata": {},
   "outputs": [
    {
     "data": {
      "image/png": "[encoded data removed]",
      "text/plain": [
       "<Figure size 720x720 with 1 Axes>"
      ]
     },
     "metadata": {},
     "output_type": "display_data"
    }
   ],
   "source": [
    "def plot_roc_auc(model_dict):\n",
    "    fig, ax = plt.subplots(1, 1, figsize=(10, 10))\n",
    "    for model in model_dict.keys():\n",
    "        fpr, tpr, _ = roc_curve(y_test_all, model_dict[model].predict_proba(X_test_all)[:, 1])\n",
    "        roc_auc = auc(fpr, tpr)\n",
    "        plt.plot(fpr, tpr, lw=1.5, label='{} (AUC = {})'.format(model, round(roc_auc,4)))\n",
    "    plt.plot([0,1], [0,1], color='navy', lw=1.5, linestyle='--')\n",
    "    plt.xlim([0.0, 1.0])\n",
    "    plt.ylim([0.0, 1.0])\n",
    "    plt.xlabel('False Positive Rate')\n",
    "    plt.ylabel('True Positive Rate')\n",
    "    plt.title('ROC (Test Set)')\n",
    "    plt.legend(loc='lower right')\n",
    "    plt.show()\n",
    "\n",
    "model_dict = {'Logistic Regression': search_lr,\n",
    "             'Random Forest': search_rf,\n",
    "             'XGBoost': search_xgb}\n",
    "plot_roc_auc(model_dict)"
   ]
  },
  {
   "cell_type": "markdown",
   "id": "corporate-inquiry",
   "metadata": {},
   "source": [
    "### Store Best Model to JOBLIB"
   ]
  },
  {
   "cell_type": "code",
   "execution_count": 18,
   "id": "timely-unemployment",
   "metadata": {},
   "outputs": [
    {
     "data": {
      "text/plain": [
       "['model.joblib']"
      ]
     },
     "execution_count": 18,
     "metadata": {},
     "output_type": "execute_result"
    }
   ],
   "source": [
    "import joblib\n",
    "joblib.dump(search_xgb.best_estimator_, 'model.joblib')"
   ]
  }
 ],
 "metadata": {
  "kernelspec": {
   "display_name": "Python 3",
   "language": "python",
   "name": "python3"
  },
  "language_info": {
   "codemirror_mode": {
    "name": "ipython",
    "version": 3
   },
   "file_extension": ".py",
   "mimetype": "text/x-python",
   "name": "python",
   "nbconvert_exporter": "python",
   "pygments_lexer": "ipython3",
   "version": "3.9.1"
  }
 },
 "nbformat": 4,
 "nbformat_minor": 5
}
